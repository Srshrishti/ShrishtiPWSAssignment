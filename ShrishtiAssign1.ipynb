{
 "cells": [
  {
   "cell_type": "code",
   "execution_count": 2,
   "id": "5e1a1d68-6e50-4a53-8c09-7c155df3e8e4",
   "metadata": {},
   "outputs": [],
   "source": [
    "#Question1-Who developed python programming language?\n",
    "#Ans1 - Guido van Rossum is a Dutch programmer best known as the creator of the Python programming language"
   ]
  },
  {
   "cell_type": "code",
   "execution_count": 3,
   "id": "ed54e62c-b30e-438a-b69a-cf940ae9c0d2",
   "metadata": {},
   "outputs": [],
   "source": [
    "#Question2 - Which type of programming does python support?\n",
    "#Ans2 - Object-oriented programming and structured programming "
   ]
  },
  {
   "cell_type": "code",
   "execution_count": 4,
   "id": "91229851-c019-4542-9c66-4e3f4301c870",
   "metadata": {},
   "outputs": [],
   "source": [
    "#Question3 - Is python case sensitive when dealing with identifiers?\n",
    "#Ans3 - Yes, Python is a case-sensitive language, i.e., it treats uppercase and lowercase characters differently. This applies to identifiers too."
   ]
  },
  {
   "cell_type": "code",
   "execution_count": 5,
   "id": "f9f7da36-32af-4c1f-bdb9-96d63066c49c",
   "metadata": {},
   "outputs": [],
   "source": [
    "#Question4 - What is the correct extension of Python file?\n",
    "#Ans4- Python file extensions are .py .pyi .pyc .pyd .pyo .pyw .pyz."
   ]
  },
  {
   "cell_type": "code",
   "execution_count": 11,
   "id": "5aace084-9010-4c4b-b838-7948c7af8b0e",
   "metadata": {},
   "outputs": [],
   "source": [
    "#Question5 - Is python code compiled or interpreted?\n",
    "#Ans5 - Python is an interpreted language, which means the source code of a Python program is converted into bytecode that is then executed by the Python virtual machine."
   ]
  },
  {
   "cell_type": "code",
   "execution_count": 7,
   "id": "f53e3566-6b5a-45b8-9beb-2133182247e8",
   "metadata": {},
   "outputs": [],
   "source": [
    "#Question6 - Name a few blocks of code used to define in python language.\n",
    "#Ans6 - a module, a function body, and a class definition"
   ]
  },
  {
   "cell_type": "code",
   "execution_count": 8,
   "id": "bfe69e4b-692d-4f2b-9309-eed9222a42b0",
   "metadata": {},
   "outputs": [],
   "source": [
    "#Question7 - State a character used used to give single line comments in python.\n",
    "#Ans7 - Hash character(#) is used to comment the line in the Python program. Comments does not have to be text to explain the code, it can also be used to prevent Python from executing code. "
   ]
  },
  {
   "cell_type": "code",
   "execution_count": 9,
   "id": "e76431cf-cbd8-44dd-9df5-d11629cceaba",
   "metadata": {},
   "outputs": [],
   "source": [
    "#Question8 - Mention functions which can help us to find the version of python that we are currently working on\n",
    "#Ans8 - Using sys.version method, python_version() function, Python -V command"
   ]
  },
  {
   "cell_type": "code",
   "execution_count": 10,
   "id": "d06547cf-6a3a-4c97-94d3-1a8cd45ba327",
   "metadata": {},
   "outputs": [],
   "source": [
    "#Question9 - Python supports the creation of anonymous functions at runtime, using a construct called..\n",
    "#Ans9 - Python supports to make anonymous functions which are not bound to a name(@ runtime). It uses a construct called \"lambda\""
   ]
  },
  {
   "cell_type": "code",
   "execution_count": null,
   "id": "528f187d-b543-4fd1-ba68-2c0cbd5c4d88",
   "metadata": {},
   "outputs": [],
   "source": [
    "#Question10- What does pip stand for?\n",
    "#Ans10 - PIP is a recursive acronym for “Preferred Installer Program” or PIP Installs Packages."
   ]
  },
  {
   "cell_type": "code",
   "execution_count": null,
   "id": "cbf1a564-d4a3-447c-bfd2-ef4c764c3e68",
   "metadata": {},
   "outputs": [],
   "source": [
    "#Question11 - Mention a few built-in functions in python.\n",
    "#Ans11 - abs function(), all() function, bin() function, bool() in Python, bytes()."
   ]
  },
  {
   "cell_type": "code",
   "execution_count": null,
   "id": "77cd4033-6219-44ab-b953-5e0d8f244ba2",
   "metadata": {},
   "outputs": [],
   "source": [
    "#Question12 - what is the maximum possible length of an identifier in Python?\n",
    "#Ans12 -  An identifier can have a maximum length of 79 characters in Python."
   ]
  },
  {
   "cell_type": "code",
   "execution_count": null,
   "id": "3de533d0-85f1-48a9-b244-692716983fa6",
   "metadata": {},
   "outputs": [],
   "source": [
    "#Question13 - \n",
    "#Ans13 - 1. Simple to Use and Understand.2.Free and Open-Source 3. Increased Productivity 4.Interpreted Language 5.Extensive library 6.Dynamically Typed 7.Portability 8.Supportive community."
   ]
  }
 ],
 "metadata": {
  "kernelspec": {
   "display_name": "Python 3 (ipykernel)",
   "language": "python",
   "name": "python3"
  },
  "language_info": {
   "codemirror_mode": {
    "name": "ipython",
    "version": 3
   },
   "file_extension": ".py",
   "mimetype": "text/x-python",
   "name": "python",
   "nbconvert_exporter": "python",
   "pygments_lexer": "ipython3",
   "version": "3.10.8"
  }
 },
 "nbformat": 4,
 "nbformat_minor": 5
}
