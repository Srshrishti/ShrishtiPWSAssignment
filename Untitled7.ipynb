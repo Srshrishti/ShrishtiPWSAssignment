{
 "cells": [
  {
   "cell_type": "code",
   "execution_count": 2,
   "id": "cf6efd56-b9e5-48a8-8788-a998951a7aca",
   "metadata": {},
   "outputs": [
    {
     "name": "stdout",
     "output_type": "stream",
     "text": [
      "apple\n",
      "banana\n",
      "cherry\n",
      "1\n",
      "2\n",
      "3\n",
      "4\n",
      "5\n"
     ]
    }
   ],
   "source": [
    "#Q1- Explain with an example each when to use a for loop and a while loop.\n",
    "\n",
    "#A1. A for loop and a while loop are both used in Python to execute a set of statements repeatedly. However, there are some scenarios where one loop may be more appropriate than the other.\n",
    "\n",
    "#A for loop is typically used when you need to iterate over a known sequence of items.\n",
    "\n",
    "fruits = [\"apple\", \"banana\", \"cherry\"]\n",
    "for x in fruits:\n",
    "  print(x)\n",
    "\n",
    "#A while loop, on the other hand, is typically used when you need to repeat a block of code as long as a certain condition is true. \n",
    "i = 1\n",
    "while i < 6:\n",
    "  print(i)\n",
    "  i += 1\n",
    "#we have a variable i initialized to 1, and we want to print the numbers 1 through 5 on separate lines. We use a while loop to repeatedly print the value of i as long as i is less than 6. Each time through the loop, we increment i by 1 until i is no longer less than 6, at which point the loop terminates.\n",
    "\n",
    "#In summary,we use a for loop when we need to iterate over a known sequence of items, and we use a while loop when we need to repeat a block of code as long as a certain condition is true."
   ]
  },
  {
   "cell_type": "code",
   "execution_count": 2,
   "id": "cfb733fd-cbc3-4a73-a757-fc0ab441f519",
   "metadata": {},
   "outputs": [
    {
     "name": "stdout",
     "output_type": "stream",
     "text": [
      "Sum of first 10 natural numbers: 55\n",
      "Product of first 10 natural numbers: 3628800\n",
      "Sum of first 10 natural numbers: 55\n",
      "Product of first 10 natural numbers: 3628800\n"
     ]
    }
   ],
   "source": [
    "#Q2 - Write a python program to print the sum and product of the first 10 natural numbers using for and while loop.\n",
    "\n",
    "#A2. # Sum and product of first 10 natural numbers using for loop\n",
    "\n",
    "\n",
    "sum = 0\n",
    "product = 1\n",
    "\n",
    "\n",
    "for i in range(1, 11):\n",
    "    sum += i\n",
    "    product *= i\n",
    "\n",
    "\n",
    "print(\"Sum of first 10 natural numbers:\", sum)\n",
    "print(\"Product of first 10 natural numbers:\", product)\n",
    "\n",
    "## Sum and product of first 10 natural numbers using while loop\n",
    "\n",
    "sum = 0\n",
    "product = 1\n",
    "i = 1\n",
    "\n",
    "\n",
    "while i <= 10:\n",
    "    sum += i\n",
    "    product *= i\n",
    "    i += 1\n",
    "\n",
    "print(\"Sum of first 10 natural numbers:\", sum)\n",
    "print(\"Product of first 10 natural numbers:\", product)\n",
    "\n"
   ]
  },
  {
   "cell_type": "code",
   "execution_count": 5,
   "id": "e23d0d36-5d56-4418-b3f1-bfcb52c8d0d0",
   "metadata": {},
   "outputs": [
    {
     "name": "stdin",
     "output_type": "stream",
     "text": [
      "Enter the number of units consumed:  310\n"
     ]
    },
    {
     "name": "stdout",
     "output_type": "stream",
     "text": [
      "Total electricity bill: 2250.0\n"
     ]
    }
   ],
   "source": [
    "#Q3 Create a python program to compute the electricity bill for a household.The per-unit charges in rupees are as follows: For the first 100 units, the user will be charged Rs. 4.5 per unit, for the next 100 units, the user will be charged Rs. 6 per unit, and for the next 100 units, the user willbe charged Rs. 10 per unit, After 300 units and above the user will be charged Rs. 20 per unit.\n",
    "#You are required to take the units of electricity consumed in a month from the user as input.\n",
    "\n",
    "#a3 - \n",
    "units = int(input(\"Enter the number of units consumed: \"))\n",
    "\n",
    "\n",
    "bill_amount = 0\n",
    "\n",
    "\n",
    "if units <= 100:\n",
    "    bill_amount = units * 4.5\n",
    "elif units <= 200:\n",
    "    bill_amount = 100 * 4.5 + (units - 100) * 6\n",
    "elif units <= 300:\n",
    "    bill_amount = 100 * 4.5 + 100 * 6 + (units - 200) * 10\n",
    "else:\n",
    "    bill_amount = 100 * 4.5 + 100 * 6 + 100 * 10 + (units - 300) * 20\n",
    "\n",
    "\n",
    "print(\"Total electricity bill:\", bill_amount)\n",
    "\n",
    "\n"
   ]
  },
  {
   "cell_type": "code",
   "execution_count": 9,
   "id": "46a05c10-b9a8-48ee-9e8e-dfa84af7a77b",
   "metadata": {},
   "outputs": [
    {
     "name": "stdout",
     "output_type": "stream",
     "text": [
      "[2, 4, 5, 6, 8, 10, 12, 14, 15, 16, 18, 20, 22, 24, 25, 26, 28, 30, 32, 34, 35, 36, 38, 40, 42, 44, 45, 46, 48, 50, 52, 54, 55, 56, 58, 60, 62, 64, 65, 66, 68, 70, 72, 74, 75, 76, 78, 80, 82, 84, 85, 86, 88, 90, 92, 94, 95, 96, 98, 100]\n",
      "[2, 4, 5, 6, 8, 10, 12, 14, 15, 16, 18, 20, 22, 24, 25, 26, 28, 30, 32, 34, 35, 36, 38, 40, 42, 44, 45, 46, 48, 50, 52, 54, 55, 56, 58, 60, 62, 64, 65, 66, 68, 70, 72, 74, 75, 76, 78, 80, 82, 84, 85, 86, 88, 90, 92, 94, 95, 96, 98, 100]\n"
     ]
    }
   ],
   "source": [
    "#Q4 - Create a list of numbers from 1 to 100. Use for loop and while loop to calculate the cube of each number and if the cube of that number is divisible by 4 or 5 then append that number in a list and print that list.\n",
    "#A4 - # Using for loop to calculate the cube of each number and append the number to a new list if the cube is divisible by 4 or 5\n",
    "\n",
    "cube_list = []\n",
    "for num in num_list:\n",
    "    cube = num ** 3\n",
    "    if cube % 4 == 0 or cube % 5 == 0:\n",
    "        cube_list.append(num)\n",
    "\n",
    "print(cube_list)\n",
    "\n",
    "# Using while loop to calculate the cube of each number and append the number to a new list if the cube is divisible by 4 or 5\n",
    "cube_list = []\n",
    "i = 1\n",
    "while i <= 100:\n",
    "    cube = i ** 3\n",
    "    if cube % 4 == 0 or cube % 5 == 0:\n",
    "        cube_list.append(i)\n",
    "    i += 1\n",
    "\n",
    "\n",
    "print(cube_list)\n",
    "\n",
    "\n",
    "\n",
    "\n",
    "\n"
   ]
  },
  {
   "cell_type": "code",
   "execution_count": 11,
   "id": "5f8a199e-e513-4875-8bc2-244fd429d6ac",
   "metadata": {},
   "outputs": [
    {
     "name": "stdout",
     "output_type": "stream",
     "text": [
      "Number of vowels in the string: 12\n",
      "New string with only vowels: Iaoeoeaaaiei\n"
     ]
    }
   ],
   "source": [
    "#Q5 - Write a program to filter count vowels in the below-given string.\n",
    "#string = \"I want to become a data scientist\"\n",
    "\n",
    "#A5- \n",
    "string = \"I want to become a data scientist\"\n",
    "\n",
    "\n",
    "vowels = 'aeiou'\n",
    "vowel_count = 0\n",
    "vowel_string = ''\n",
    "\n",
    "for char in string:\n",
    "    if char.lower() in vowels:\n",
    "        vowel_count += 1\n",
    "        vowel_string += char\n",
    "\n",
    "print(\"Number of vowels in the string:\", vowel_count)\n",
    "print(\"New string with only vowels:\", vowel_string)\n"
   ]
  },
  {
   "cell_type": "code",
   "execution_count": null,
   "id": "cca18a0c-6e76-4f02-b64a-cb9fdd9c08f6",
   "metadata": {},
   "outputs": [],
   "source": []
  }
 ],
 "metadata": {
  "kernelspec": {
   "display_name": "Python 3 (ipykernel)",
   "language": "python",
   "name": "python3"
  },
  "language_info": {
   "codemirror_mode": {
    "name": "ipython",
    "version": 3
   },
   "file_extension": ".py",
   "mimetype": "text/x-python",
   "name": "python",
   "nbconvert_exporter": "python",
   "pygments_lexer": "ipython3",
   "version": "3.10.8"
  }
 },
 "nbformat": 4,
 "nbformat_minor": 5
}
